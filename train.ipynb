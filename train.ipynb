{
 "cells": [
  {
   "cell_type": "code",
   "execution_count": 4,
   "metadata": {},
   "outputs": [
    {
     "data": {
      "text/plain": [
       "device(type='cuda')"
      ]
     },
     "execution_count": 4,
     "metadata": {},
     "output_type": "execute_result"
    }
   ],
   "source": [
    "import torch, torchvision\n",
    "from torch import nn, optim\n",
    "from torch.utils.data.dataloader import DataLoader\n",
    "from torch.utils.data import random_split\n",
    "#from torch.utils import make_grid\n",
    "from torchvision import datasets, transforms, models\n",
    "import timm\n",
    "from timm.loss import LabelSmoothingCrossEntropy\n",
    "import matplotlib.pyplot as plt\n",
    "%matplotlib inline\n",
    "import sys\n",
    "from tqdm import tqdm\n",
    "import time\n",
    "import copy\n",
    "import numpy as np\n",
    "device = torch.device(\"cuda\" if torch.cuda.is_available() else \"cpu\")\n",
    "device"
   ]
  },
  {
   "cell_type": "code",
   "execution_count": 14,
   "metadata": {},
   "outputs": [
    {
     "name": "stdout",
     "output_type": "stream",
     "text": [
      "6326 torch.Size([3, 224, 224]) 0\n"
     ]
    },
    {
     "data": {
      "text/plain": [
       "['COVID19', 'NORMAL', 'PNEUMONIA', 'TURBERCULOSIS']"
      ]
     },
     "execution_count": 14,
     "metadata": {},
     "output_type": "execute_result"
    }
   ],
   "source": [
    "data_dir = './Covid-dataset-split/'\n",
    "train_dir = data_dir + r'train/'\n",
    "valid_dir = data_dir + r'val/'\n",
    "test_dir = data_dir + r'test/'\n",
    "\n",
    "normal_transforms = transforms.Compose([\n",
    "    transforms.Resize(256),\n",
    "    transforms.CenterCrop(224),\n",
    "    transforms.ToTensor(),\n",
    "    transforms.Normalize([0.485, 0.456, 0.406], [0.229, 0.224, 0.225])\n",
    "])\n",
    "\n",
    "training_dataset = datasets.ImageFolder(train_dir, transform=normal_transforms)\n",
    "validation_dataset = datasets.ImageFolder(valid_dir, transform=normal_transforms)\n",
    "testing_dataset = datasets.ImageFolder(test_dir, transform=normal_transforms)\n",
    "\n",
    "train_loader = torch.utils.data.DataLoader(training_dataset, batch_size=32, shuffle=True, pin_memory=True)\n",
    "validate_loader = torch.utils.data.DataLoader(validation_dataset, batch_size=32, shuffle=False, pin_memory=True)\n",
    "test_loader = torch.utils.data.DataLoader(testing_dataset, batch_size=32, shuffle=False, pin_memory=True)\n",
    "\n",
    "print(len(training_dataset), validation_dataset[20][0].shape, testing_dataset[10][1])\n",
    "\n",
    "dataloaders = {'train': train_loader, 'val': validate_loader}\n",
    "dataset_sizes = {'train': len(training_dataset), 'val': len(validation_dataset)}\n",
    "\n",
    "def get_classes(data_dir):\n",
    "    all_data = datasets.ImageFolder(data_dir)\n",
    "    return all_data.classes\n",
    "classes = get_classes(train_dir)\n",
    "classes"
   ]
  },
  {
   "cell_type": "code",
   "execution_count": null,
   "metadata": {},
   "outputs": [],
   "source": [
    "model1 = models.mobilenet_v2(pretrained=True)\n"
   ]
  }
 ],
 "metadata": {
  "kernelspec": {
   "display_name": "torch112_gpu",
   "language": "python",
   "name": "python3"
  },
  "language_info": {
   "codemirror_mode": {
    "name": "ipython",
    "version": 3
   },
   "file_extension": ".py",
   "mimetype": "text/x-python",
   "name": "python",
   "nbconvert_exporter": "python",
   "pygments_lexer": "ipython3",
   "version": "3.8.18"
  }
 },
 "nbformat": 4,
 "nbformat_minor": 2
}
